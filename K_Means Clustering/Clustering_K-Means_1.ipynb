{
 "cells": [
  {
   "cell_type": "markdown",
   "id": "336e6465",
   "metadata": {},
   "source": [
    "### K-Means_Clustering"
   ]
  },
  {
   "cell_type": "markdown",
   "id": "1f47ea5c",
   "metadata": {},
   "source": [
    "Problem Statement : Built a K-Mean Cluster Profile For the Wholesale customers data\n",
    "\n",
    "Dataset --> Wholesale customers data.csv"
   ]
  },
  {
   "cell_type": "code",
   "execution_count": 1,
   "id": "bc45e20d",
   "metadata": {},
   "outputs": [],
   "source": [
    "#Loading the Required Libary\n",
    "import numpy as np\n",
    "import pandas as pd\n",
    "from matplotlib import pyplot as plt\n",
    "from sklearn.cluster import KMeans"
   ]
  },
  {
   "cell_type": "code",
   "execution_count": 2,
   "id": "f104854e",
   "metadata": {},
   "outputs": [
    {
     "data": {
      "text/html": [
       "<div>\n",
       "<style scoped>\n",
       "    .dataframe tbody tr th:only-of-type {\n",
       "        vertical-align: middle;\n",
       "    }\n",
       "\n",
       "    .dataframe tbody tr th {\n",
       "        vertical-align: top;\n",
       "    }\n",
       "\n",
       "    .dataframe thead th {\n",
       "        text-align: right;\n",
       "    }\n",
       "</style>\n",
       "<table border=\"1\" class=\"dataframe\">\n",
       "  <thead>\n",
       "    <tr style=\"text-align: right;\">\n",
       "      <th></th>\n",
       "      <th>Channel</th>\n",
       "      <th>Region</th>\n",
       "      <th>Fresh</th>\n",
       "      <th>Milk</th>\n",
       "      <th>Grocery</th>\n",
       "      <th>Frozen</th>\n",
       "      <th>Detergents_Paper</th>\n",
       "      <th>Delicassen</th>\n",
       "    </tr>\n",
       "  </thead>\n",
       "  <tbody>\n",
       "    <tr>\n",
       "      <th>0</th>\n",
       "      <td>2</td>\n",
       "      <td>3</td>\n",
       "      <td>12669</td>\n",
       "      <td>9656</td>\n",
       "      <td>7561</td>\n",
       "      <td>214</td>\n",
       "      <td>2674</td>\n",
       "      <td>1338</td>\n",
       "    </tr>\n",
       "    <tr>\n",
       "      <th>1</th>\n",
       "      <td>2</td>\n",
       "      <td>3</td>\n",
       "      <td>7057</td>\n",
       "      <td>9810</td>\n",
       "      <td>9568</td>\n",
       "      <td>1762</td>\n",
       "      <td>3293</td>\n",
       "      <td>1776</td>\n",
       "    </tr>\n",
       "    <tr>\n",
       "      <th>2</th>\n",
       "      <td>2</td>\n",
       "      <td>3</td>\n",
       "      <td>6353</td>\n",
       "      <td>8808</td>\n",
       "      <td>7684</td>\n",
       "      <td>2405</td>\n",
       "      <td>3516</td>\n",
       "      <td>7844</td>\n",
       "    </tr>\n",
       "    <tr>\n",
       "      <th>3</th>\n",
       "      <td>1</td>\n",
       "      <td>3</td>\n",
       "      <td>13265</td>\n",
       "      <td>1196</td>\n",
       "      <td>4221</td>\n",
       "      <td>6404</td>\n",
       "      <td>507</td>\n",
       "      <td>1788</td>\n",
       "    </tr>\n",
       "    <tr>\n",
       "      <th>4</th>\n",
       "      <td>2</td>\n",
       "      <td>3</td>\n",
       "      <td>22615</td>\n",
       "      <td>5410</td>\n",
       "      <td>7198</td>\n",
       "      <td>3915</td>\n",
       "      <td>1777</td>\n",
       "      <td>5185</td>\n",
       "    </tr>\n",
       "  </tbody>\n",
       "</table>\n",
       "</div>"
      ],
      "text/plain": [
       "   Channel  Region  Fresh  Milk  Grocery  Frozen  Detergents_Paper  Delicassen\n",
       "0        2       3  12669  9656     7561     214              2674        1338\n",
       "1        2       3   7057  9810     9568    1762              3293        1776\n",
       "2        2       3   6353  8808     7684    2405              3516        7844\n",
       "3        1       3  13265  1196     4221    6404               507        1788\n",
       "4        2       3  22615  5410     7198    3915              1777        5185"
      ]
     },
     "execution_count": 2,
     "metadata": {},
     "output_type": "execute_result"
    }
   ],
   "source": [
    "#Loading the Dataset\n",
    "Dataset = pd.read_csv(\"C:/Users/Akaash/Downloads/Wholesale customers data.csv\");\n",
    "Dataset.head()"
   ]
  },
  {
   "cell_type": "code",
   "execution_count": 3,
   "id": "717f2ab1",
   "metadata": {},
   "outputs": [
    {
     "name": "stdout",
     "output_type": "stream",
     "text": [
      "<class 'pandas.core.frame.DataFrame'>\n",
      "RangeIndex: 440 entries, 0 to 439\n",
      "Data columns (total 8 columns):\n",
      " #   Column            Non-Null Count  Dtype\n",
      "---  ------            --------------  -----\n",
      " 0   Channel           440 non-null    int64\n",
      " 1   Region            440 non-null    int64\n",
      " 2   Fresh             440 non-null    int64\n",
      " 3   Milk              440 non-null    int64\n",
      " 4   Grocery           440 non-null    int64\n",
      " 5   Frozen            440 non-null    int64\n",
      " 6   Detergents_Paper  440 non-null    int64\n",
      " 7   Delicassen        440 non-null    int64\n",
      "dtypes: int64(8)\n",
      "memory usage: 27.6 KB\n"
     ]
    }
   ],
   "source": [
    "#Checking NA Values\n",
    "Dataset.info()"
   ]
  },
  {
   "cell_type": "markdown",
   "id": "e7bedc4f",
   "metadata": {},
   "source": [
    "Inference: There are No NA Values in the Dataset"
   ]
  },
  {
   "cell_type": "code",
   "execution_count": 4,
   "id": "dc64f39d",
   "metadata": {},
   "outputs": [
    {
     "data": {
      "text/plain": [
       "0.2190722716918627"
      ]
     },
     "execution_count": 4,
     "metadata": {},
     "output_type": "execute_result"
    }
   ],
   "source": [
    "Dataset['Channel'].var()"
   ]
  },
  {
   "cell_type": "code",
   "execution_count": 5,
   "id": "9ab43060",
   "metadata": {},
   "outputs": [
    {
     "data": {
      "text/plain": [
       "0.5994978256367766"
      ]
     },
     "execution_count": 5,
     "metadata": {},
     "output_type": "execute_result"
    }
   ],
   "source": [
    "Dataset['Region'].var()"
   ]
  },
  {
   "cell_type": "markdown",
   "id": "46776ebf",
   "metadata": {},
   "source": [
    "Inference: The Variance of the column 'Channel' & 'Region' is very less So, droping them."
   ]
  },
  {
   "cell_type": "code",
   "execution_count": 6,
   "id": "2c7a7e23",
   "metadata": {},
   "outputs": [
    {
     "data": {
      "text/html": [
       "<div>\n",
       "<style scoped>\n",
       "    .dataframe tbody tr th:only-of-type {\n",
       "        vertical-align: middle;\n",
       "    }\n",
       "\n",
       "    .dataframe tbody tr th {\n",
       "        vertical-align: top;\n",
       "    }\n",
       "\n",
       "    .dataframe thead th {\n",
       "        text-align: right;\n",
       "    }\n",
       "</style>\n",
       "<table border=\"1\" class=\"dataframe\">\n",
       "  <thead>\n",
       "    <tr style=\"text-align: right;\">\n",
       "      <th></th>\n",
       "      <th>Fresh</th>\n",
       "      <th>Milk</th>\n",
       "      <th>Grocery</th>\n",
       "      <th>Frozen</th>\n",
       "      <th>Detergents_Paper</th>\n",
       "      <th>Delicassen</th>\n",
       "    </tr>\n",
       "  </thead>\n",
       "  <tbody>\n",
       "    <tr>\n",
       "      <th>0</th>\n",
       "      <td>12669</td>\n",
       "      <td>9656</td>\n",
       "      <td>7561</td>\n",
       "      <td>214</td>\n",
       "      <td>2674</td>\n",
       "      <td>1338</td>\n",
       "    </tr>\n",
       "    <tr>\n",
       "      <th>1</th>\n",
       "      <td>7057</td>\n",
       "      <td>9810</td>\n",
       "      <td>9568</td>\n",
       "      <td>1762</td>\n",
       "      <td>3293</td>\n",
       "      <td>1776</td>\n",
       "    </tr>\n",
       "    <tr>\n",
       "      <th>2</th>\n",
       "      <td>6353</td>\n",
       "      <td>8808</td>\n",
       "      <td>7684</td>\n",
       "      <td>2405</td>\n",
       "      <td>3516</td>\n",
       "      <td>7844</td>\n",
       "    </tr>\n",
       "    <tr>\n",
       "      <th>3</th>\n",
       "      <td>13265</td>\n",
       "      <td>1196</td>\n",
       "      <td>4221</td>\n",
       "      <td>6404</td>\n",
       "      <td>507</td>\n",
       "      <td>1788</td>\n",
       "    </tr>\n",
       "    <tr>\n",
       "      <th>4</th>\n",
       "      <td>22615</td>\n",
       "      <td>5410</td>\n",
       "      <td>7198</td>\n",
       "      <td>3915</td>\n",
       "      <td>1777</td>\n",
       "      <td>5185</td>\n",
       "    </tr>\n",
       "  </tbody>\n",
       "</table>\n",
       "</div>"
      ],
      "text/plain": [
       "   Fresh  Milk  Grocery  Frozen  Detergents_Paper  Delicassen\n",
       "0  12669  9656     7561     214              2674        1338\n",
       "1   7057  9810     9568    1762              3293        1776\n",
       "2   6353  8808     7684    2405              3516        7844\n",
       "3  13265  1196     4221    6404               507        1788\n",
       "4  22615  5410     7198    3915              1777        5185"
      ]
     },
     "execution_count": 6,
     "metadata": {},
     "output_type": "execute_result"
    }
   ],
   "source": [
    "#Droping 'Channel' & 'Region' Column\n",
    "Dataset.drop(['Channel','Region'], axis = 1, inplace = True)\n",
    "Dataset.head()"
   ]
  },
  {
   "cell_type": "markdown",
   "id": "d22b75db",
   "metadata": {},
   "source": [
    "Inference: Insignificant Columns are Dropped, And No Need to Normalize the values, as they are in same scale."
   ]
  },
  {
   "cell_type": "markdown",
   "id": "f388067a",
   "metadata": {},
   "source": [
    "#### Elbow Graph / scree plot\n",
    "How to find optimum number of  cluster\n",
    "\n",
    "The K-means algorithm aims to choose centroids that minimise the inertia, or within-cluster sum-of-squares criterion:"
   ]
  },
  {
   "cell_type": "code",
   "execution_count": 7,
   "id": "0a6e47d7",
   "metadata": {},
   "outputs": [
    {
     "data": {
      "image/png": "[encoded data removed]",
      "text/plain": [
       "<Figure size 432x288 with 1 Axes>"
      ]
     },
     "metadata": {
      "needs_background": "light"
     },
     "output_type": "display_data"
    }
   ],
   "source": [
    "#wcss- within cluster sum of square\n",
    "wcss = []\n",
    "for i in range(1, 11):\n",
    "    kmeans = KMeans(n_clusters=i,random_state=0) # will start at 0(randam_state)\n",
    "    kmeans.fit(Dataset)\n",
    "    wcss.append(kmeans.inertia_)\n",
    " \n",
    "#Plotting the Elbow Graph\n",
    "plt.plot(range(1, 11), wcss)\n",
    "plt.title('Elbow Method')\n",
    "plt.xlabel('Number of clusters')\n",
    "plt.ylabel('WCSS')\n",
    "plt.show()"
   ]
  },
  {
   "cell_type": "markdown",
   "id": "c133aa60",
   "metadata": {},
   "source": [
    "Inference: the optimum value of K would be 3,5 as it can been through figure"
   ]
  },
  {
   "cell_type": "code",
   "execution_count": 8,
   "id": "b942d31c",
   "metadata": {},
   "outputs": [
    {
     "data": {
      "text/plain": [
       "[157595857165.60883,\n",
       " 113217528520.90987,\n",
       " 80342166920.9407,\n",
       " 64855545528.21104,\n",
       " 53019062599.73089,\n",
       " 47268536487.10492,\n",
       " 41548901634.243,\n",
       " 36471327478.59547,\n",
       " 32765817439.526077,\n",
       " 29734145058.237057]"
      ]
     },
     "execution_count": 8,
     "metadata": {},
     "output_type": "execute_result"
    }
   ],
   "source": [
    "#Checking the Wcss \n",
    "wcss"
   ]
  },
  {
   "cell_type": "markdown",
   "id": "e2a8fb82",
   "metadata": {},
   "source": [
    "#### Building Cluster algorithm for k = 3"
   ]
  },
  {
   "cell_type": "code",
   "execution_count": 9,
   "id": "d2ae8b66",
   "metadata": {},
   "outputs": [
    {
     "data": {
      "text/plain": [
       "KMeans(n_clusters=3, random_state=0)"
      ]
     },
     "execution_count": 9,
     "metadata": {},
     "output_type": "execute_result"
    }
   ],
   "source": [
    "#Build Cluster algorithm\n",
    "from sklearn.cluster import KMeans\n",
    "clusters_new = KMeans(3, random_state=0)\n",
    "clusters_new.fit(Dataset)"
   ]
  },
  {
   "cell_type": "code",
   "execution_count": 10,
   "id": "1d1e57ec",
   "metadata": {},
   "outputs": [
    {
     "data": {
      "text/plain": [
       "array([1, 1, 1, 1, 2, 1, 1, 1, 1, 0, 1, 1, 2, 1, 2, 1, 1, 1, 1, 1, 1, 1,\n",
       "       2, 0, 2, 1, 1, 1, 0, 2, 1, 1, 1, 2, 1, 1, 2, 1, 0, 2, 2, 1, 1, 0,\n",
       "       1, 0, 0, 0, 1, 0, 1, 1, 2, 1, 2, 1, 0, 1, 1, 1, 1, 0, 1, 0, 1, 0,\n",
       "       1, 1, 1, 1, 1, 1, 1, 1, 1, 1, 1, 0, 1, 1, 1, 1, 1, 1, 1, 0, 0, 2,\n",
       "       1, 2, 1, 1, 0, 1, 1, 1, 1, 1, 1, 1, 1, 0, 1, 2, 1, 1, 1, 1, 1, 0,\n",
       "       1, 0, 1, 1, 1, 1, 1, 1, 1, 1, 1, 1, 1, 1, 2, 2, 1, 1, 1, 2, 1, 1,\n",
       "       1, 1, 1, 1, 1, 1, 1, 1, 1, 2, 2, 1, 1, 0, 1, 1, 1, 2, 1, 1, 1, 1,\n",
       "       1, 0, 1, 1, 1, 1, 1, 1, 1, 0, 1, 0, 1, 1, 1, 1, 1, 0, 1, 0, 1, 1,\n",
       "       2, 1, 1, 1, 1, 2, 1, 2, 1, 1, 1, 1, 1, 1, 1, 1, 1, 1, 1, 1, 2, 1,\n",
       "       1, 1, 0, 0, 2, 1, 1, 0, 1, 1, 1, 0, 1, 0, 1, 1, 1, 1, 0, 1, 1, 1,\n",
       "       1, 1, 1, 1, 1, 1, 1, 1, 1, 1, 1, 1, 2, 1, 1, 1, 1, 1, 1, 2, 2, 2,\n",
       "       1, 1, 1, 1, 1, 1, 1, 1, 1, 0, 1, 2, 1, 2, 1, 1, 2, 2, 1, 1, 1, 1,\n",
       "       1, 0, 0, 1, 0, 1, 1, 1, 1, 2, 1, 1, 2, 1, 1, 1, 1, 1, 2, 2, 2, 2,\n",
       "       1, 1, 1, 2, 1, 1, 1, 1, 1, 1, 1, 1, 1, 1, 1, 0, 1, 1, 0, 1, 0, 1,\n",
       "       1, 0, 1, 2, 0, 1, 1, 1, 1, 1, 1, 0, 1, 1, 1, 1, 2, 2, 1, 1, 1, 1,\n",
       "       1, 0, 1, 0, 1, 2, 1, 1, 1, 1, 1, 1, 1, 0, 1, 1, 1, 2, 1, 0, 1, 0,\n",
       "       1, 0, 1, 1, 1, 0, 1, 1, 1, 1, 1, 1, 1, 1, 1, 1, 1, 1, 2, 1, 1, 1,\n",
       "       1, 1, 1, 2, 1, 1, 2, 1, 2, 1, 0, 1, 1, 1, 1, 1, 1, 1, 1, 2, 1, 1,\n",
       "       1, 1, 1, 1, 1, 2, 2, 2, 1, 1, 2, 0, 1, 1, 1, 1, 1, 1, 1, 1, 1, 1,\n",
       "       0, 1, 1, 1, 2, 1, 1, 1, 1, 2, 1, 1, 1, 1, 1, 1, 1, 2, 2, 0, 1, 1])"
      ]
     },
     "execution_count": 10,
     "metadata": {},
     "output_type": "execute_result"
    }
   ],
   "source": [
    "#Fetching the cluster by its labels\n",
    "clusters_new.labels_"
   ]
  },
  {
   "cell_type": "code",
   "execution_count": 11,
   "id": "30af72bf",
   "metadata": {},
   "outputs": [
    {
     "data": {
      "text/plain": [
       "array([[ 7751.98113208, 17910.50943396, 27037.90566038,  1970.94339623,\n",
       "        12104.86792453,  2185.73584906],\n",
       "       [ 8341.61280488,  3779.89329268,  5152.17378049,  2577.23780488,\n",
       "         1720.57317073,  1136.54268293],\n",
       "       [36156.38983051,  6123.6440678 ,  6366.77966102,  6811.11864407,\n",
       "         1050.01694915,  3090.05084746]])"
      ]
     },
     "execution_count": 11,
     "metadata": {},
     "output_type": "execute_result"
    }
   ],
   "source": [
    "#these are standardized values.\n",
    "clusters_new.cluster_centers_"
   ]
  },
  {
   "cell_type": "markdown",
   "id": "134afe99",
   "metadata": {},
   "source": [
    "#### The Cluster Profiling"
   ]
  },
  {
   "cell_type": "code",
   "execution_count": 12,
   "id": "c81ba1f0",
   "metadata": {},
   "outputs": [
    {
     "data": {
      "text/html": [
       "<div>\n",
       "<style scoped>\n",
       "    .dataframe tbody tr th:only-of-type {\n",
       "        vertical-align: middle;\n",
       "    }\n",
       "\n",
       "    .dataframe tbody tr th {\n",
       "        vertical-align: top;\n",
       "    }\n",
       "\n",
       "    .dataframe thead th {\n",
       "        text-align: right;\n",
       "    }\n",
       "</style>\n",
       "<table border=\"1\" class=\"dataframe\">\n",
       "  <thead>\n",
       "    <tr style=\"text-align: right;\">\n",
       "      <th></th>\n",
       "      <th>Fresh</th>\n",
       "      <th>Milk</th>\n",
       "      <th>Grocery</th>\n",
       "      <th>Frozen</th>\n",
       "      <th>Detergents_Paper</th>\n",
       "      <th>Delicassen</th>\n",
       "      <th>clusterid_new</th>\n",
       "    </tr>\n",
       "  </thead>\n",
       "  <tbody>\n",
       "    <tr>\n",
       "      <th>0</th>\n",
       "      <td>12669</td>\n",
       "      <td>9656</td>\n",
       "      <td>7561</td>\n",
       "      <td>214</td>\n",
       "      <td>2674</td>\n",
       "      <td>1338</td>\n",
       "      <td>1</td>\n",
       "    </tr>\n",
       "    <tr>\n",
       "      <th>1</th>\n",
       "      <td>7057</td>\n",
       "      <td>9810</td>\n",
       "      <td>9568</td>\n",
       "      <td>1762</td>\n",
       "      <td>3293</td>\n",
       "      <td>1776</td>\n",
       "      <td>1</td>\n",
       "    </tr>\n",
       "    <tr>\n",
       "      <th>2</th>\n",
       "      <td>6353</td>\n",
       "      <td>8808</td>\n",
       "      <td>7684</td>\n",
       "      <td>2405</td>\n",
       "      <td>3516</td>\n",
       "      <td>7844</td>\n",
       "      <td>1</td>\n",
       "    </tr>\n",
       "    <tr>\n",
       "      <th>3</th>\n",
       "      <td>13265</td>\n",
       "      <td>1196</td>\n",
       "      <td>4221</td>\n",
       "      <td>6404</td>\n",
       "      <td>507</td>\n",
       "      <td>1788</td>\n",
       "      <td>1</td>\n",
       "    </tr>\n",
       "    <tr>\n",
       "      <th>4</th>\n",
       "      <td>22615</td>\n",
       "      <td>5410</td>\n",
       "      <td>7198</td>\n",
       "      <td>3915</td>\n",
       "      <td>1777</td>\n",
       "      <td>5185</td>\n",
       "      <td>2</td>\n",
       "    </tr>\n",
       "    <tr>\n",
       "      <th>...</th>\n",
       "      <td>...</td>\n",
       "      <td>...</td>\n",
       "      <td>...</td>\n",
       "      <td>...</td>\n",
       "      <td>...</td>\n",
       "      <td>...</td>\n",
       "      <td>...</td>\n",
       "    </tr>\n",
       "    <tr>\n",
       "      <th>435</th>\n",
       "      <td>29703</td>\n",
       "      <td>12051</td>\n",
       "      <td>16027</td>\n",
       "      <td>13135</td>\n",
       "      <td>182</td>\n",
       "      <td>2204</td>\n",
       "      <td>2</td>\n",
       "    </tr>\n",
       "    <tr>\n",
       "      <th>436</th>\n",
       "      <td>39228</td>\n",
       "      <td>1431</td>\n",
       "      <td>764</td>\n",
       "      <td>4510</td>\n",
       "      <td>93</td>\n",
       "      <td>2346</td>\n",
       "      <td>2</td>\n",
       "    </tr>\n",
       "    <tr>\n",
       "      <th>437</th>\n",
       "      <td>14531</td>\n",
       "      <td>15488</td>\n",
       "      <td>30243</td>\n",
       "      <td>437</td>\n",
       "      <td>14841</td>\n",
       "      <td>1867</td>\n",
       "      <td>0</td>\n",
       "    </tr>\n",
       "    <tr>\n",
       "      <th>438</th>\n",
       "      <td>10290</td>\n",
       "      <td>1981</td>\n",
       "      <td>2232</td>\n",
       "      <td>1038</td>\n",
       "      <td>168</td>\n",
       "      <td>2125</td>\n",
       "      <td>1</td>\n",
       "    </tr>\n",
       "    <tr>\n",
       "      <th>439</th>\n",
       "      <td>2787</td>\n",
       "      <td>1698</td>\n",
       "      <td>2510</td>\n",
       "      <td>65</td>\n",
       "      <td>477</td>\n",
       "      <td>52</td>\n",
       "      <td>1</td>\n",
       "    </tr>\n",
       "  </tbody>\n",
       "</table>\n",
       "<p>440 rows × 7 columns</p>\n",
       "</div>"
      ],
      "text/plain": [
       "     Fresh   Milk  Grocery  Frozen  Detergents_Paper  Delicassen  \\\n",
       "0    12669   9656     7561     214              2674        1338   \n",
       "1     7057   9810     9568    1762              3293        1776   \n",
       "2     6353   8808     7684    2405              3516        7844   \n",
       "3    13265   1196     4221    6404               507        1788   \n",
       "4    22615   5410     7198    3915              1777        5185   \n",
       "..     ...    ...      ...     ...               ...         ...   \n",
       "435  29703  12051    16027   13135               182        2204   \n",
       "436  39228   1431      764    4510                93        2346   \n",
       "437  14531  15488    30243     437             14841        1867   \n",
       "438  10290   1981     2232    1038               168        2125   \n",
       "439   2787   1698     2510      65               477          52   \n",
       "\n",
       "     clusterid_new  \n",
       "0                1  \n",
       "1                1  \n",
       "2                1  \n",
       "3                1  \n",
       "4                2  \n",
       "..             ...  \n",
       "435              2  \n",
       "436              2  \n",
       "437              0  \n",
       "438              1  \n",
       "439              1  \n",
       "\n",
       "[440 rows x 7 columns]"
      ]
     },
     "execution_count": 12,
     "metadata": {},
     "output_type": "execute_result"
    }
   ],
   "source": [
    "#Assign clusters to the data set\n",
    "Dataset['clusterid_new'] = clusters_new.labels_\n",
    "Dataset"
   ]
  },
  {
   "cell_type": "code",
   "execution_count": 13,
   "id": "24dd98bf",
   "metadata": {
    "scrolled": true
   },
   "outputs": [
    {
     "data": {
      "text/html": [
       "<div>\n",
       "<style scoped>\n",
       "    .dataframe tbody tr th:only-of-type {\n",
       "        vertical-align: middle;\n",
       "    }\n",
       "\n",
       "    .dataframe tbody tr th {\n",
       "        vertical-align: top;\n",
       "    }\n",
       "\n",
       "    .dataframe thead tr th {\n",
       "        text-align: left;\n",
       "    }\n",
       "</style>\n",
       "<table border=\"1\" class=\"dataframe\">\n",
       "  <thead>\n",
       "    <tr>\n",
       "      <th></th>\n",
       "      <th>clusterid_new</th>\n",
       "      <th>Fresh</th>\n",
       "      <th>Milk</th>\n",
       "      <th>Grocery</th>\n",
       "      <th>Frozen</th>\n",
       "      <th>Detergents_Paper</th>\n",
       "      <th>Delicassen</th>\n",
       "    </tr>\n",
       "    <tr>\n",
       "      <th></th>\n",
       "      <th></th>\n",
       "      <th>mean</th>\n",
       "      <th>mean</th>\n",
       "      <th>mean</th>\n",
       "      <th>mean</th>\n",
       "      <th>mean</th>\n",
       "      <th>mean</th>\n",
       "    </tr>\n",
       "  </thead>\n",
       "  <tbody>\n",
       "    <tr>\n",
       "      <th>0</th>\n",
       "      <td>0</td>\n",
       "      <td>7751.981132</td>\n",
       "      <td>17910.509434</td>\n",
       "      <td>27037.905660</td>\n",
       "      <td>1970.943396</td>\n",
       "      <td>12104.867925</td>\n",
       "      <td>2185.735849</td>\n",
       "    </tr>\n",
       "    <tr>\n",
       "      <th>1</th>\n",
       "      <td>1</td>\n",
       "      <td>8341.612805</td>\n",
       "      <td>3779.893293</td>\n",
       "      <td>5152.173780</td>\n",
       "      <td>2577.237805</td>\n",
       "      <td>1720.573171</td>\n",
       "      <td>1136.542683</td>\n",
       "    </tr>\n",
       "    <tr>\n",
       "      <th>2</th>\n",
       "      <td>2</td>\n",
       "      <td>36156.389831</td>\n",
       "      <td>6123.644068</td>\n",
       "      <td>6366.779661</td>\n",
       "      <td>6811.118644</td>\n",
       "      <td>1050.016949</td>\n",
       "      <td>3090.050847</td>\n",
       "    </tr>\n",
       "  </tbody>\n",
       "</table>\n",
       "</div>"
      ],
      "text/plain": [
       "  clusterid_new         Fresh          Milk       Grocery       Frozen  \\\n",
       "                         mean          mean          mean         mean   \n",
       "0             0   7751.981132  17910.509434  27037.905660  1970.943396   \n",
       "1             1   8341.612805   3779.893293   5152.173780  2577.237805   \n",
       "2             2  36156.389831   6123.644068   6366.779661  6811.118644   \n",
       "\n",
       "  Detergents_Paper   Delicassen  \n",
       "              mean         mean  \n",
       "0     12104.867925  2185.735849  \n",
       "1      1720.573171  1136.542683  \n",
       "2      1050.016949  3090.050847  "
      ]
     },
     "execution_count": 13,
     "metadata": {},
     "output_type": "execute_result"
    }
   ],
   "source": [
    "#Profile\n",
    "Dataset.groupby('clusterid_new').agg(['mean']).reset_index()"
   ]
  },
  {
   "cell_type": "code",
   "execution_count": 14,
   "id": "9a785a4e",
   "metadata": {},
   "outputs": [
    {
     "data": {
      "text/plain": [
       "<matplotlib.collections.PathCollection at 0x212a4194ca0>"
      ]
     },
     "execution_count": 14,
     "metadata": {},
     "output_type": "execute_result"
    },
    {
     "data": {
      "image/png": "[encoded data removed]",
      "text/plain": [
       "<Figure size 432x288 with 1 Axes>"
      ]
     },
     "metadata": {
      "needs_background": "light"
     },
     "output_type": "display_data"
    }
   ],
   "source": [
    "#Plot of Clusters\n",
    "plt.figure(figsize = (6,4))\n",
    "plt.scatter(Dataset['clusterid_new'],Dataset['Fresh'], c = clusters_new.labels_)"
   ]
  },
  {
   "cell_type": "markdown",
   "id": "8b350eb6",
   "metadata": {},
   "source": [
    "#### Building Cluster algorithm for k = 5"
   ]
  },
  {
   "cell_type": "code",
   "execution_count": 15,
   "id": "1b6bac22",
   "metadata": {},
   "outputs": [
    {
     "data": {
      "text/plain": [
       "KMeans(n_clusters=5, random_state=0)"
      ]
     },
     "execution_count": 15,
     "metadata": {},
     "output_type": "execute_result"
    }
   ],
   "source": [
    "#Build Cluster algorithm\n",
    "from sklearn.cluster import KMeans\n",
    "clusters_new = KMeans(5, random_state=0)\n",
    "clusters_new.fit(Dataset)"
   ]
  },
  {
   "cell_type": "code",
   "execution_count": 16,
   "id": "266c5cd7",
   "metadata": {},
   "outputs": [
    {
     "data": {
      "text/plain": [
       "array([3, 3, 3, 3, 2, 3, 3, 3, 3, 0, 0, 3, 2, 2, 2, 3, 0, 3, 2, 3, 2, 3,\n",
       "       2, 0, 2, 2, 3, 3, 0, 1, 2, 3, 2, 2, 3, 3, 2, 0, 0, 1, 2, 2, 0, 0,\n",
       "       3, 0, 0, 4, 3, 0, 3, 3, 1, 0, 2, 3, 0, 0, 3, 3, 3, 4, 3, 0, 3, 4,\n",
       "       3, 2, 3, 3, 2, 2, 3, 2, 3, 2, 3, 0, 3, 3, 3, 0, 3, 2, 3, 4, 4, 1,\n",
       "       3, 2, 3, 3, 0, 2, 0, 3, 3, 3, 3, 3, 0, 0, 3, 1, 3, 2, 0, 0, 3, 0,\n",
       "       3, 0, 2, 2, 2, 3, 3, 3, 2, 3, 2, 3, 3, 3, 2, 1, 2, 2, 3, 1, 3, 3,\n",
       "       2, 3, 3, 3, 3, 3, 3, 3, 2, 2, 1, 3, 2, 0, 3, 3, 3, 2, 2, 3, 2, 3,\n",
       "       3, 0, 0, 2, 3, 0, 3, 3, 2, 0, 3, 0, 3, 3, 3, 3, 0, 0, 3, 0, 3, 0,\n",
       "       1, 3, 3, 3, 3, 1, 0, 1, 3, 3, 3, 3, 0, 0, 2, 3, 3, 0, 3, 2, 2, 3,\n",
       "       3, 3, 0, 0, 2, 3, 3, 0, 3, 3, 3, 0, 2, 4, 3, 3, 0, 0, 0, 2, 0, 3,\n",
       "       2, 3, 3, 3, 3, 3, 2, 3, 3, 3, 3, 3, 2, 3, 2, 3, 3, 2, 3, 1, 2, 2,\n",
       "       2, 3, 3, 0, 3, 3, 2, 3, 3, 0, 3, 2, 3, 2, 3, 3, 1, 1, 3, 3, 2, 3,\n",
       "       0, 0, 0, 2, 0, 2, 3, 3, 3, 2, 3, 3, 2, 3, 3, 2, 3, 3, 1, 2, 1, 1,\n",
       "       3, 2, 2, 1, 3, 3, 3, 0, 2, 3, 2, 3, 3, 3, 2, 0, 3, 0, 0, 0, 0, 2,\n",
       "       3, 0, 3, 2, 0, 3, 3, 0, 3, 3, 3, 0, 3, 3, 2, 3, 2, 1, 3, 3, 2, 3,\n",
       "       3, 0, 2, 4, 2, 2, 3, 3, 3, 3, 3, 3, 3, 0, 3, 3, 0, 2, 3, 0, 3, 0,\n",
       "       3, 0, 2, 3, 2, 0, 3, 3, 2, 3, 3, 3, 3, 3, 3, 3, 2, 3, 1, 2, 3, 2,\n",
       "       3, 3, 0, 1, 3, 3, 2, 2, 2, 3, 0, 3, 3, 2, 3, 3, 3, 3, 3, 2, 3, 3,\n",
       "       0, 3, 3, 3, 3, 2, 2, 2, 2, 3, 2, 0, 3, 3, 3, 3, 3, 3, 3, 3, 0, 3,\n",
       "       0, 3, 0, 2, 2, 2, 2, 3, 0, 2, 3, 3, 0, 3, 2, 3, 2, 2, 1, 0, 3, 3])"
      ]
     },
     "execution_count": 16,
     "metadata": {},
     "output_type": "execute_result"
    }
   ],
   "source": [
    "#Fetching the cluster by its labels\n",
    "clusters_new.labels_"
   ]
  },
  {
   "cell_type": "code",
   "execution_count": 17,
   "id": "3606e348",
   "metadata": {},
   "outputs": [
    {
     "data": {
      "text/plain": [
       "array([[4.99148148e+03, 1.21405432e+04, 1.85055062e+04, 1.59111111e+03,\n",
       "        8.14824691e+03, 1.82240741e+03, 4.32098765e-01],\n",
       "       [4.98995455e+04, 6.99500000e+03, 6.55877273e+03, 9.88718182e+03,\n",
       "        9.84590909e+02, 4.68195455e+03, 2.00000000e+00],\n",
       "       [2.16278558e+04, 3.90326923e+03, 5.11935577e+03, 4.19454808e+03,\n",
       "        1.12304808e+03, 1.71321154e+03, 1.35576923e+00],\n",
       "       [6.14387168e+03, 3.27679204e+03, 4.11516372e+03, 2.43834956e+03,\n",
       "        1.22070354e+03, 9.92539823e+02, 1.00000000e+00],\n",
       "       [2.00312857e+04, 3.80840000e+04, 5.61261429e+04, 2.56457143e+03,\n",
       "        2.76445714e+04, 2.54814286e+03, 0.00000000e+00]])"
      ]
     },
     "execution_count": 17,
     "metadata": {},
     "output_type": "execute_result"
    }
   ],
   "source": [
    "#these are standardized values.\n",
    "clusters_new.cluster_centers_"
   ]
  },
  {
   "cell_type": "markdown",
   "id": "95334dd7",
   "metadata": {},
   "source": [
    "#### The Cluster Profiling"
   ]
  },
  {
   "cell_type": "code",
   "execution_count": 18,
   "id": "e5167e12",
   "metadata": {},
   "outputs": [
    {
     "data": {
      "text/html": [
       "<div>\n",
       "<style scoped>\n",
       "    .dataframe tbody tr th:only-of-type {\n",
       "        vertical-align: middle;\n",
       "    }\n",
       "\n",
       "    .dataframe tbody tr th {\n",
       "        vertical-align: top;\n",
       "    }\n",
       "\n",
       "    .dataframe thead th {\n",
       "        text-align: right;\n",
       "    }\n",
       "</style>\n",
       "<table border=\"1\" class=\"dataframe\">\n",
       "  <thead>\n",
       "    <tr style=\"text-align: right;\">\n",
       "      <th></th>\n",
       "      <th>Fresh</th>\n",
       "      <th>Milk</th>\n",
       "      <th>Grocery</th>\n",
       "      <th>Frozen</th>\n",
       "      <th>Detergents_Paper</th>\n",
       "      <th>Delicassen</th>\n",
       "      <th>clusterid_new</th>\n",
       "    </tr>\n",
       "  </thead>\n",
       "  <tbody>\n",
       "    <tr>\n",
       "      <th>0</th>\n",
       "      <td>12669</td>\n",
       "      <td>9656</td>\n",
       "      <td>7561</td>\n",
       "      <td>214</td>\n",
       "      <td>2674</td>\n",
       "      <td>1338</td>\n",
       "      <td>3</td>\n",
       "    </tr>\n",
       "    <tr>\n",
       "      <th>1</th>\n",
       "      <td>7057</td>\n",
       "      <td>9810</td>\n",
       "      <td>9568</td>\n",
       "      <td>1762</td>\n",
       "      <td>3293</td>\n",
       "      <td>1776</td>\n",
       "      <td>3</td>\n",
       "    </tr>\n",
       "    <tr>\n",
       "      <th>2</th>\n",
       "      <td>6353</td>\n",
       "      <td>8808</td>\n",
       "      <td>7684</td>\n",
       "      <td>2405</td>\n",
       "      <td>3516</td>\n",
       "      <td>7844</td>\n",
       "      <td>3</td>\n",
       "    </tr>\n",
       "    <tr>\n",
       "      <th>3</th>\n",
       "      <td>13265</td>\n",
       "      <td>1196</td>\n",
       "      <td>4221</td>\n",
       "      <td>6404</td>\n",
       "      <td>507</td>\n",
       "      <td>1788</td>\n",
       "      <td>3</td>\n",
       "    </tr>\n",
       "    <tr>\n",
       "      <th>4</th>\n",
       "      <td>22615</td>\n",
       "      <td>5410</td>\n",
       "      <td>7198</td>\n",
       "      <td>3915</td>\n",
       "      <td>1777</td>\n",
       "      <td>5185</td>\n",
       "      <td>2</td>\n",
       "    </tr>\n",
       "    <tr>\n",
       "      <th>...</th>\n",
       "      <td>...</td>\n",
       "      <td>...</td>\n",
       "      <td>...</td>\n",
       "      <td>...</td>\n",
       "      <td>...</td>\n",
       "      <td>...</td>\n",
       "      <td>...</td>\n",
       "    </tr>\n",
       "    <tr>\n",
       "      <th>435</th>\n",
       "      <td>29703</td>\n",
       "      <td>12051</td>\n",
       "      <td>16027</td>\n",
       "      <td>13135</td>\n",
       "      <td>182</td>\n",
       "      <td>2204</td>\n",
       "      <td>2</td>\n",
       "    </tr>\n",
       "    <tr>\n",
       "      <th>436</th>\n",
       "      <td>39228</td>\n",
       "      <td>1431</td>\n",
       "      <td>764</td>\n",
       "      <td>4510</td>\n",
       "      <td>93</td>\n",
       "      <td>2346</td>\n",
       "      <td>1</td>\n",
       "    </tr>\n",
       "    <tr>\n",
       "      <th>437</th>\n",
       "      <td>14531</td>\n",
       "      <td>15488</td>\n",
       "      <td>30243</td>\n",
       "      <td>437</td>\n",
       "      <td>14841</td>\n",
       "      <td>1867</td>\n",
       "      <td>0</td>\n",
       "    </tr>\n",
       "    <tr>\n",
       "      <th>438</th>\n",
       "      <td>10290</td>\n",
       "      <td>1981</td>\n",
       "      <td>2232</td>\n",
       "      <td>1038</td>\n",
       "      <td>168</td>\n",
       "      <td>2125</td>\n",
       "      <td>3</td>\n",
       "    </tr>\n",
       "    <tr>\n",
       "      <th>439</th>\n",
       "      <td>2787</td>\n",
       "      <td>1698</td>\n",
       "      <td>2510</td>\n",
       "      <td>65</td>\n",
       "      <td>477</td>\n",
       "      <td>52</td>\n",
       "      <td>3</td>\n",
       "    </tr>\n",
       "  </tbody>\n",
       "</table>\n",
       "<p>440 rows × 7 columns</p>\n",
       "</div>"
      ],
      "text/plain": [
       "     Fresh   Milk  Grocery  Frozen  Detergents_Paper  Delicassen  \\\n",
       "0    12669   9656     7561     214              2674        1338   \n",
       "1     7057   9810     9568    1762              3293        1776   \n",
       "2     6353   8808     7684    2405              3516        7844   \n",
       "3    13265   1196     4221    6404               507        1788   \n",
       "4    22615   5410     7198    3915              1777        5185   \n",
       "..     ...    ...      ...     ...               ...         ...   \n",
       "435  29703  12051    16027   13135               182        2204   \n",
       "436  39228   1431      764    4510                93        2346   \n",
       "437  14531  15488    30243     437             14841        1867   \n",
       "438  10290   1981     2232    1038               168        2125   \n",
       "439   2787   1698     2510      65               477          52   \n",
       "\n",
       "     clusterid_new  \n",
       "0                3  \n",
       "1                3  \n",
       "2                3  \n",
       "3                3  \n",
       "4                2  \n",
       "..             ...  \n",
       "435              2  \n",
       "436              1  \n",
       "437              0  \n",
       "438              3  \n",
       "439              3  \n",
       "\n",
       "[440 rows x 7 columns]"
      ]
     },
     "execution_count": 18,
     "metadata": {},
     "output_type": "execute_result"
    }
   ],
   "source": [
    "#Assign clusters to the data set\n",
    "Dataset['clusterid_new'] = clusters_new.labels_\n",
    "Dataset"
   ]
  },
  {
   "cell_type": "code",
   "execution_count": 19,
   "id": "bea49611",
   "metadata": {},
   "outputs": [
    {
     "data": {
      "text/html": [
       "<div>\n",
       "<style scoped>\n",
       "    .dataframe tbody tr th:only-of-type {\n",
       "        vertical-align: middle;\n",
       "    }\n",
       "\n",
       "    .dataframe tbody tr th {\n",
       "        vertical-align: top;\n",
       "    }\n",
       "\n",
       "    .dataframe thead tr th {\n",
       "        text-align: left;\n",
       "    }\n",
       "</style>\n",
       "<table border=\"1\" class=\"dataframe\">\n",
       "  <thead>\n",
       "    <tr>\n",
       "      <th></th>\n",
       "      <th>clusterid_new</th>\n",
       "      <th>Fresh</th>\n",
       "      <th>Milk</th>\n",
       "      <th>Grocery</th>\n",
       "      <th>Frozen</th>\n",
       "      <th>Detergents_Paper</th>\n",
       "      <th>Delicassen</th>\n",
       "    </tr>\n",
       "    <tr>\n",
       "      <th></th>\n",
       "      <th></th>\n",
       "      <th>mean</th>\n",
       "      <th>mean</th>\n",
       "      <th>mean</th>\n",
       "      <th>mean</th>\n",
       "      <th>mean</th>\n",
       "      <th>mean</th>\n",
       "    </tr>\n",
       "  </thead>\n",
       "  <tbody>\n",
       "    <tr>\n",
       "      <th>0</th>\n",
       "      <td>0</td>\n",
       "      <td>4991.481481</td>\n",
       "      <td>12140.543210</td>\n",
       "      <td>18505.506173</td>\n",
       "      <td>1591.111111</td>\n",
       "      <td>8148.246914</td>\n",
       "      <td>1822.407407</td>\n",
       "    </tr>\n",
       "    <tr>\n",
       "      <th>1</th>\n",
       "      <td>1</td>\n",
       "      <td>49899.545455</td>\n",
       "      <td>6995.000000</td>\n",
       "      <td>6558.772727</td>\n",
       "      <td>9887.181818</td>\n",
       "      <td>984.590909</td>\n",
       "      <td>4681.954545</td>\n",
       "    </tr>\n",
       "    <tr>\n",
       "      <th>2</th>\n",
       "      <td>2</td>\n",
       "      <td>21627.855769</td>\n",
       "      <td>3903.269231</td>\n",
       "      <td>5119.355769</td>\n",
       "      <td>4194.548077</td>\n",
       "      <td>1123.048077</td>\n",
       "      <td>1713.211538</td>\n",
       "    </tr>\n",
       "    <tr>\n",
       "      <th>3</th>\n",
       "      <td>3</td>\n",
       "      <td>6143.871681</td>\n",
       "      <td>3276.792035</td>\n",
       "      <td>4115.163717</td>\n",
       "      <td>2438.349558</td>\n",
       "      <td>1220.703540</td>\n",
       "      <td>992.539823</td>\n",
       "    </tr>\n",
       "    <tr>\n",
       "      <th>4</th>\n",
       "      <td>4</td>\n",
       "      <td>20031.285714</td>\n",
       "      <td>38084.000000</td>\n",
       "      <td>56126.142857</td>\n",
       "      <td>2564.571429</td>\n",
       "      <td>27644.571429</td>\n",
       "      <td>2548.142857</td>\n",
       "    </tr>\n",
       "  </tbody>\n",
       "</table>\n",
       "</div>"
      ],
      "text/plain": [
       "  clusterid_new         Fresh          Milk       Grocery       Frozen  \\\n",
       "                         mean          mean          mean         mean   \n",
       "0             0   4991.481481  12140.543210  18505.506173  1591.111111   \n",
       "1             1  49899.545455   6995.000000   6558.772727  9887.181818   \n",
       "2             2  21627.855769   3903.269231   5119.355769  4194.548077   \n",
       "3             3   6143.871681   3276.792035   4115.163717  2438.349558   \n",
       "4             4  20031.285714  38084.000000  56126.142857  2564.571429   \n",
       "\n",
       "  Detergents_Paper   Delicassen  \n",
       "              mean         mean  \n",
       "0      8148.246914  1822.407407  \n",
       "1       984.590909  4681.954545  \n",
       "2      1123.048077  1713.211538  \n",
       "3      1220.703540   992.539823  \n",
       "4     27644.571429  2548.142857  "
      ]
     },
     "execution_count": 19,
     "metadata": {},
     "output_type": "execute_result"
    }
   ],
   "source": [
    "#Profile\n",
    "Dataset.groupby('clusterid_new').agg(['mean']).reset_index()"
   ]
  },
  {
   "cell_type": "code",
   "execution_count": 20,
   "id": "e11cc68e",
   "metadata": {},
   "outputs": [
    {
     "data": {
      "text/plain": [
       "<matplotlib.collections.PathCollection at 0x212a421a550>"
      ]
     },
     "execution_count": 20,
     "metadata": {},
     "output_type": "execute_result"
    },
    {
     "data": {
      "image/png": "[encoded data removed]",
      "text/plain": [
       "<Figure size 432x288 with 1 Axes>"
      ]
     },
     "metadata": {
      "needs_background": "light"
     },
     "output_type": "display_data"
    }
   ],
   "source": [
    "#Plot of Clusters\n",
    "plt.figure(figsize = (6,4))\n",
    "plt.scatter(Dataset['clusterid_new'],Dataset['Fresh'], c = clusters_new.labels_)"
   ]
  },
  {
   "cell_type": "code",
   "execution_count": null,
   "id": "f62ac97c",
   "metadata": {},
   "outputs": [],
   "source": []
  }
 ],
 "metadata": {
  "kernelspec": {
   "display_name": "Python 3",
   "language": "python",
   "name": "python3"
  },
  "language_info": {
   "codemirror_mode": {
    "name": "ipython",
    "version": 3
   },
   "file_extension": ".py",
   "mimetype": "text/x-python",
   "name": "python",
   "nbconvert_exporter": "python",
   "pygments_lexer": "ipython3",
   "version": "3.8.8"
  }
 },
 "nbformat": 4,
 "nbformat_minor": 5
}
